{
 "cells": [
  {
   "cell_type": "markdown",
   "metadata": {},
   "source": [
    "# GAN for time series"
   ]
  },
  {
   "cell_type": "markdown",
   "metadata": {},
   "source": [
    "## Importing data"
   ]
  },
  {
   "cell_type": "code",
   "execution_count": 1,
   "metadata": {},
   "outputs": [
    {
     "data": {
      "text/html": [
       "<style type='text/css'>\n",
       ".datatable table.frame { margin-bottom: 0; }\n",
       ".datatable table.frame thead { border-bottom: none; }\n",
       ".datatable table.frame tr.coltypes td {  color: #FFFFFF;  line-height: 6px;  padding: 0 0.5em;}\n",
       ".datatable .bool    { background: #DDDD99; }\n",
       ".datatable .object  { background: #565656; }\n",
       ".datatable .int     { background: #5D9E5D; }\n",
       ".datatable .float   { background: #4040CC; }\n",
       ".datatable .str     { background: #CC4040; }\n",
       ".datatable .row_index {  background: var(--jp-border-color3);  border-right: 1px solid var(--jp-border-color0);  color: var(--jp-ui-font-color3);  font-size: 9px;}\n",
       ".datatable .frame tr.coltypes .row_index {  background: var(--jp-border-color0);}\n",
       ".datatable th:nth-child(2) { padding-left: 12px; }\n",
       ".datatable .hellipsis {  color: var(--jp-cell-editor-border-color);}\n",
       ".datatable .vellipsis {  background: var(--jp-layout-color0);  color: var(--jp-cell-editor-border-color);}\n",
       ".datatable .na {  color: var(--jp-cell-editor-border-color);  font-size: 80%;}\n",
       ".datatable .footer { font-size: 9px; }\n",
       ".datatable .frame_dimensions {  background: var(--jp-border-color3);  border-top: 1px solid var(--jp-border-color0);  color: var(--jp-ui-font-color3);  display: inline-block;  opacity: 0.6;  padding: 1px 10px 1px 5px;}\n",
       "</style>\n"
      ],
      "text/plain": [
       "<IPython.core.display.HTML object>"
      ]
     },
     "metadata": {},
     "output_type": "display_data"
    }
   ],
   "source": [
    "import pandas as pd\n",
    "import numpy as np\n",
    "import matplotlib.pyplot as plt\n",
    "from tqdm import tqdm\n",
    "import datatable as dt"
   ]
  },
  {
   "cell_type": "code",
   "execution_count": 2,
   "metadata": {},
   "outputs": [],
   "source": [
    "csvs = ['data/etfs.csv',\n",
    " 'data/stocks0.csv',\n",
    " 'data/stocks1.csv',\n",
    " 'data/stocks2.csv',\n",
    " 'data/stocks3.csv']\n",
    "\n",
    "def read_csvs(csvs):\n",
    "    \n",
    "    data_frames = []\n",
    "    \n",
    "    for csv in csvs:\n",
    "        df = dt.fread(csv).to_pandas()        \n",
    "        df.index = pd.to_datetime(df['Date'])\n",
    "        df.drop(['Date'], axis=1, inplace=True)\n",
    "        \n",
    "        data_frames.append(df)\n",
    "        \n",
    "    return pd.concat(data_frames, join='inner', axis=1)"
   ]
  },
  {
   "cell_type": "code",
   "execution_count": 3,
   "metadata": {},
   "outputs": [
    {
     "name": "stderr",
     "output_type": "stream",
     "text": [
      "DatatableWarning: Duplicate column names found, and were assigned unique names: 'iShares Core S&P 500' -> 'iShares Core S&P 501', 'RBC Canadian Preferred Share' -> 'RBC Canadian Preferred Share.0', ..., 'WisdomTree Emerging Markets SmallCap Dividend' -> 'WisdomTree Emerging Markets SmallCap Dividend.0'\n",
      "DatatableWarning: Duplicate column names found, and were assigned unique names: 'Loma Negra Compania Industrial Argentina SA' -> 'Loma Negra Compania Industrial Argentina SA.0', 'Ternium Argentina SA' -> 'Ternium Argentina SA.0', ..., 'Travelzoo Inc' -> 'Travelzoo Inc.0'\n",
      "DatatableWarning: Duplicate column names found, and were assigned unique names: 'Senior Housing Properties Trust' -> 'Senior Housing Properties Trust.0', 'Senior Housing Properties Trust' -> 'Senior Housing Properties Trust.1', ..., 'Qantas Airways Ltd' -> 'Qantas Airways Ltd.0'\n",
      "DatatableWarning: Duplicate column names found, and were assigned unique names: 'Jiangling Motors Corp Ltd' -> 'Jiangling Motors Corp Ltd.0', 'Shenzhen Properties & Resources Development Group Ltd' -> 'Shenzhen Properties & Resources Development Group Ltd.0', ..., 'Federal International Holdings Bhd' -> 'Federal International Holdings Bhd.0'\n",
      "DatatableWarning: Duplicate column names found, and were assigned unique names: 'Del Monte Pacific Ltd Pref' -> 'Del Monte Pacific Ltd Pref.0', 'Phoenix Petroleum Philippines Inc' -> 'Phoenix Petroleum Philippines Inc.0', ..., 'Old Mutual PLC' -> 'Old Mutual PLC.0'\n"
     ]
    }
   ],
   "source": [
    "stocks = read_csvs(csvs)"
   ]
  },
  {
   "cell_type": "code",
   "execution_count": 4,
   "metadata": {},
   "outputs": [
    {
     "data": {
      "text/html": [
       "<div>\n",
       "<style scoped>\n",
       "    .dataframe tbody tr th:only-of-type {\n",
       "        vertical-align: middle;\n",
       "    }\n",
       "\n",
       "    .dataframe tbody tr th {\n",
       "        vertical-align: top;\n",
       "    }\n",
       "\n",
       "    .dataframe thead th {\n",
       "        text-align: right;\n",
       "    }\n",
       "</style>\n",
       "<table border=\"1\" class=\"dataframe\">\n",
       "  <thead>\n",
       "    <tr style=\"text-align: right;\">\n",
       "      <th></th>\n",
       "      <th>Australian High Interest Cash</th>\n",
       "      <th>VanEck Vectors MSCI International Sustainable Equity</th>\n",
       "      <th>BetaShares Australian Equities Strong Bear Hedge</th>\n",
       "      <th>BetaShares Gold Bullion Currency Hedged</th>\n",
       "      <th>Vanguard Australian Shares</th>\n",
       "      <th>Betashares Active Australian Hybrids</th>\n",
       "      <th>Montgomery Global Equities Fund</th>\n",
       "      <th>iShares S&amp;P/ASX Dividend Opportunities</th>\n",
       "      <th>VanEck Vectors FTSE Global Infrastructure</th>\n",
       "      <th>WCM Quality Global Growth</th>\n",
       "      <th>...</th>\n",
       "      <th>Lafarge Cement Zimbabwe Limited</th>\n",
       "      <th>Zeco Holdings Limited</th>\n",
       "      <th>African Sun Limited</th>\n",
       "      <th>Meikles Ltd</th>\n",
       "      <th>Econet Wireless Zimbabwe Limited</th>\n",
       "      <th>Padenga</th>\n",
       "      <th>Masimba Holdings Limited</th>\n",
       "      <th>Old Mutual PLC.0</th>\n",
       "      <th>Proplastics</th>\n",
       "      <th>Cassava SmarTech</th>\n",
       "    </tr>\n",
       "    <tr>\n",
       "      <th>Date</th>\n",
       "      <th></th>\n",
       "      <th></th>\n",
       "      <th></th>\n",
       "      <th></th>\n",
       "      <th></th>\n",
       "      <th></th>\n",
       "      <th></th>\n",
       "      <th></th>\n",
       "      <th></th>\n",
       "      <th></th>\n",
       "      <th></th>\n",
       "      <th></th>\n",
       "      <th></th>\n",
       "      <th></th>\n",
       "      <th></th>\n",
       "      <th></th>\n",
       "      <th></th>\n",
       "      <th></th>\n",
       "      <th></th>\n",
       "      <th></th>\n",
       "      <th></th>\n",
       "    </tr>\n",
       "  </thead>\n",
       "  <tbody>\n",
       "    <tr>\n",
       "      <th>2021-02-02</th>\n",
       "      <td>50.07</td>\n",
       "      <td>25.50</td>\n",
       "      <td>5.84</td>\n",
       "      <td>17.58</td>\n",
       "      <td>86.30</td>\n",
       "      <td>10.26</td>\n",
       "      <td>3.45</td>\n",
       "      <td>13.45</td>\n",
       "      <td>19.36</td>\n",
       "      <td>7.67</td>\n",
       "      <td>...</td>\n",
       "      <td>NaN</td>\n",
       "      <td>NaN</td>\n",
       "      <td>1.32</td>\n",
       "      <td>40.0</td>\n",
       "      <td>13.95</td>\n",
       "      <td>27.95</td>\n",
       "      <td>16.5</td>\n",
       "      <td>NaN</td>\n",
       "      <td>13.85</td>\n",
       "      <td>9.0</td>\n",
       "    </tr>\n",
       "    <tr>\n",
       "      <th>2021-02-03</th>\n",
       "      <td>50.07</td>\n",
       "      <td>25.84</td>\n",
       "      <td>5.72</td>\n",
       "      <td>17.47</td>\n",
       "      <td>87.06</td>\n",
       "      <td>10.27</td>\n",
       "      <td>3.48</td>\n",
       "      <td>13.51</td>\n",
       "      <td>19.54</td>\n",
       "      <td>7.80</td>\n",
       "      <td>...</td>\n",
       "      <td>NaN</td>\n",
       "      <td>NaN</td>\n",
       "      <td>1.68</td>\n",
       "      <td>40.0</td>\n",
       "      <td>14.40</td>\n",
       "      <td>29.00</td>\n",
       "      <td>16.5</td>\n",
       "      <td>NaN</td>\n",
       "      <td>16.60</td>\n",
       "      <td>10.1</td>\n",
       "    </tr>\n",
       "    <tr>\n",
       "      <th>2021-02-04</th>\n",
       "      <td>50.07</td>\n",
       "      <td>25.73</td>\n",
       "      <td>5.84</td>\n",
       "      <td>17.26</td>\n",
       "      <td>86.35</td>\n",
       "      <td>10.26</td>\n",
       "      <td>3.49</td>\n",
       "      <td>13.42</td>\n",
       "      <td>19.42</td>\n",
       "      <td>7.80</td>\n",
       "      <td>...</td>\n",
       "      <td>NaN</td>\n",
       "      <td>NaN</td>\n",
       "      <td>1.45</td>\n",
       "      <td>38.5</td>\n",
       "      <td>15.10</td>\n",
       "      <td>30.05</td>\n",
       "      <td>16.0</td>\n",
       "      <td>NaN</td>\n",
       "      <td>19.90</td>\n",
       "      <td>11.0</td>\n",
       "    </tr>\n",
       "    <tr>\n",
       "      <th>2021-02-05</th>\n",
       "      <td>50.08</td>\n",
       "      <td>26.14</td>\n",
       "      <td>5.68</td>\n",
       "      <td>17.05</td>\n",
       "      <td>87.33</td>\n",
       "      <td>10.23</td>\n",
       "      <td>3.54</td>\n",
       "      <td>13.52</td>\n",
       "      <td>19.58</td>\n",
       "      <td>7.88</td>\n",
       "      <td>...</td>\n",
       "      <td>18.8</td>\n",
       "      <td>NaN</td>\n",
       "      <td>1.70</td>\n",
       "      <td>40.0</td>\n",
       "      <td>17.70</td>\n",
       "      <td>33.00</td>\n",
       "      <td>16.0</td>\n",
       "      <td>NaN</td>\n",
       "      <td>23.85</td>\n",
       "      <td>12.0</td>\n",
       "    </tr>\n",
       "    <tr>\n",
       "      <th>2021-02-08</th>\n",
       "      <td>50.07</td>\n",
       "      <td>26.05</td>\n",
       "      <td>5.61</td>\n",
       "      <td>17.19</td>\n",
       "      <td>87.78</td>\n",
       "      <td>10.27</td>\n",
       "      <td>3.52</td>\n",
       "      <td>13.60</td>\n",
       "      <td>19.74</td>\n",
       "      <td>7.84</td>\n",
       "      <td>...</td>\n",
       "      <td>NaN</td>\n",
       "      <td>NaN</td>\n",
       "      <td>1.70</td>\n",
       "      <td>44.0</td>\n",
       "      <td>19.95</td>\n",
       "      <td>33.20</td>\n",
       "      <td>18.0</td>\n",
       "      <td>NaN</td>\n",
       "      <td>24.00</td>\n",
       "      <td>12.0</td>\n",
       "    </tr>\n",
       "  </tbody>\n",
       "</table>\n",
       "<p>5 rows × 49582 columns</p>\n",
       "</div>"
      ],
      "text/plain": [
       "            Australian High Interest Cash  \\\n",
       "Date                                        \n",
       "2021-02-02                          50.07   \n",
       "2021-02-03                          50.07   \n",
       "2021-02-04                          50.07   \n",
       "2021-02-05                          50.08   \n",
       "2021-02-08                          50.07   \n",
       "\n",
       "            VanEck Vectors MSCI International Sustainable Equity  \\\n",
       "Date                                                               \n",
       "2021-02-02                                              25.50      \n",
       "2021-02-03                                              25.84      \n",
       "2021-02-04                                              25.73      \n",
       "2021-02-05                                              26.14      \n",
       "2021-02-08                                              26.05      \n",
       "\n",
       "            BetaShares Australian Equities Strong Bear Hedge  \\\n",
       "Date                                                           \n",
       "2021-02-02                                              5.84   \n",
       "2021-02-03                                              5.72   \n",
       "2021-02-04                                              5.84   \n",
       "2021-02-05                                              5.68   \n",
       "2021-02-08                                              5.61   \n",
       "\n",
       "            BetaShares Gold Bullion Currency Hedged  \\\n",
       "Date                                                  \n",
       "2021-02-02                                    17.58   \n",
       "2021-02-03                                    17.47   \n",
       "2021-02-04                                    17.26   \n",
       "2021-02-05                                    17.05   \n",
       "2021-02-08                                    17.19   \n",
       "\n",
       "            Vanguard Australian Shares  Betashares Active Australian Hybrids  \\\n",
       "Date                                                                           \n",
       "2021-02-02                       86.30                                 10.26   \n",
       "2021-02-03                       87.06                                 10.27   \n",
       "2021-02-04                       86.35                                 10.26   \n",
       "2021-02-05                       87.33                                 10.23   \n",
       "2021-02-08                       87.78                                 10.27   \n",
       "\n",
       "            Montgomery Global Equities Fund  \\\n",
       "Date                                          \n",
       "2021-02-02                             3.45   \n",
       "2021-02-03                             3.48   \n",
       "2021-02-04                             3.49   \n",
       "2021-02-05                             3.54   \n",
       "2021-02-08                             3.52   \n",
       "\n",
       "            iShares S&P/ASX Dividend Opportunities  \\\n",
       "Date                                                 \n",
       "2021-02-02                                   13.45   \n",
       "2021-02-03                                   13.51   \n",
       "2021-02-04                                   13.42   \n",
       "2021-02-05                                   13.52   \n",
       "2021-02-08                                   13.60   \n",
       "\n",
       "            VanEck Vectors FTSE Global Infrastructure  \\\n",
       "Date                                                    \n",
       "2021-02-02                                      19.36   \n",
       "2021-02-03                                      19.54   \n",
       "2021-02-04                                      19.42   \n",
       "2021-02-05                                      19.58   \n",
       "2021-02-08                                      19.74   \n",
       "\n",
       "            WCM Quality Global Growth  ...  Lafarge Cement Zimbabwe Limited  \\\n",
       "Date                                   ...                                    \n",
       "2021-02-02                       7.67  ...                              NaN   \n",
       "2021-02-03                       7.80  ...                              NaN   \n",
       "2021-02-04                       7.80  ...                              NaN   \n",
       "2021-02-05                       7.88  ...                             18.8   \n",
       "2021-02-08                       7.84  ...                              NaN   \n",
       "\n",
       "            Zeco Holdings Limited  African Sun Limited  Meikles Ltd  \\\n",
       "Date                                                                  \n",
       "2021-02-02                    NaN                 1.32         40.0   \n",
       "2021-02-03                    NaN                 1.68         40.0   \n",
       "2021-02-04                    NaN                 1.45         38.5   \n",
       "2021-02-05                    NaN                 1.70         40.0   \n",
       "2021-02-08                    NaN                 1.70         44.0   \n",
       "\n",
       "            Econet Wireless Zimbabwe Limited  Padenga  \\\n",
       "Date                                                    \n",
       "2021-02-02                             13.95    27.95   \n",
       "2021-02-03                             14.40    29.00   \n",
       "2021-02-04                             15.10    30.05   \n",
       "2021-02-05                             17.70    33.00   \n",
       "2021-02-08                             19.95    33.20   \n",
       "\n",
       "            Masimba Holdings Limited  Old Mutual PLC.0  Proplastics  \\\n",
       "Date                                                                  \n",
       "2021-02-02                      16.5               NaN        13.85   \n",
       "2021-02-03                      16.5               NaN        16.60   \n",
       "2021-02-04                      16.0               NaN        19.90   \n",
       "2021-02-05                      16.0               NaN        23.85   \n",
       "2021-02-08                      18.0               NaN        24.00   \n",
       "\n",
       "            Cassava SmarTech  \n",
       "Date                          \n",
       "2021-02-02               9.0  \n",
       "2021-02-03              10.1  \n",
       "2021-02-04              11.0  \n",
       "2021-02-05              12.0  \n",
       "2021-02-08              12.0  \n",
       "\n",
       "[5 rows x 49582 columns]"
      ]
     },
     "execution_count": 4,
     "metadata": {},
     "output_type": "execute_result"
    }
   ],
   "source": [
    "stocks.tail()"
   ]
  },
  {
   "cell_type": "code",
   "execution_count": 5,
   "metadata": {},
   "outputs": [
    {
     "name": "stdout",
     "output_type": "stream",
     "text": [
      "Shape:  (505, 36556)\n",
      "Total NaN:  0\n"
     ]
    },
    {
     "data": {
      "text/html": [
       "<div>\n",
       "<style scoped>\n",
       "    .dataframe tbody tr th:only-of-type {\n",
       "        vertical-align: middle;\n",
       "    }\n",
       "\n",
       "    .dataframe tbody tr th {\n",
       "        vertical-align: top;\n",
       "    }\n",
       "\n",
       "    .dataframe thead th {\n",
       "        text-align: right;\n",
       "    }\n",
       "</style>\n",
       "<table border=\"1\" class=\"dataframe\">\n",
       "  <thead>\n",
       "    <tr style=\"text-align: right;\">\n",
       "      <th></th>\n",
       "      <th>Australian High Interest Cash</th>\n",
       "      <th>VanEck Vectors MSCI International Sustainable Equity</th>\n",
       "      <th>BetaShares Australian Equities Strong Bear Hedge</th>\n",
       "      <th>BetaShares Gold Bullion Currency Hedged</th>\n",
       "      <th>Vanguard Australian Shares</th>\n",
       "      <th>Betashares Active Australian Hybrids</th>\n",
       "      <th>Montgomery Global Equities Fund</th>\n",
       "      <th>iShares S&amp;P/ASX Dividend Opportunities</th>\n",
       "      <th>VanEck Vectors FTSE Global Infrastructure</th>\n",
       "      <th>WCM Quality Global Growth</th>\n",
       "      <th>...</th>\n",
       "      <th>Tawasol Group Holding SA</th>\n",
       "      <th>Universal Auto Distributors Holding SA</th>\n",
       "      <th>Unimed SA</th>\n",
       "      <th>Atelier du Meuble Interieurs SA</th>\n",
       "      <th>Delta Corporation Limited</th>\n",
       "      <th>Innscor Africa Limited</th>\n",
       "      <th>OK Zimbabwe Limited</th>\n",
       "      <th>Econet Wireless Zimbabwe Limited</th>\n",
       "      <th>Padenga</th>\n",
       "      <th>Cassava SmarTech</th>\n",
       "    </tr>\n",
       "    <tr>\n",
       "      <th>Date</th>\n",
       "      <th></th>\n",
       "      <th></th>\n",
       "      <th></th>\n",
       "      <th></th>\n",
       "      <th></th>\n",
       "      <th></th>\n",
       "      <th></th>\n",
       "      <th></th>\n",
       "      <th></th>\n",
       "      <th></th>\n",
       "      <th></th>\n",
       "      <th></th>\n",
       "      <th></th>\n",
       "      <th></th>\n",
       "      <th></th>\n",
       "      <th></th>\n",
       "      <th></th>\n",
       "      <th></th>\n",
       "      <th></th>\n",
       "      <th></th>\n",
       "      <th></th>\n",
       "    </tr>\n",
       "  </thead>\n",
       "  <tbody>\n",
       "    <tr>\n",
       "      <th>2019-03-05</th>\n",
       "      <td>50.09</td>\n",
       "      <td>21.32</td>\n",
       "      <td>12.58</td>\n",
       "      <td>13.14</td>\n",
       "      <td>79.09</td>\n",
       "      <td>9.91</td>\n",
       "      <td>3.56</td>\n",
       "      <td>13.80</td>\n",
       "      <td>20.29</td>\n",
       "      <td>5.13</td>\n",
       "      <td>...</td>\n",
       "      <td>0.26</td>\n",
       "      <td>1.46</td>\n",
       "      <td>9.98</td>\n",
       "      <td>3.67</td>\n",
       "      <td>2.69</td>\n",
       "      <td>1.6</td>\n",
       "      <td>0.260</td>\n",
       "      <td>1.41</td>\n",
       "      <td>0.98</td>\n",
       "      <td>1.40</td>\n",
       "    </tr>\n",
       "    <tr>\n",
       "      <th>2019-03-06</th>\n",
       "      <td>50.08</td>\n",
       "      <td>21.32</td>\n",
       "      <td>12.37</td>\n",
       "      <td>13.10</td>\n",
       "      <td>79.70</td>\n",
       "      <td>9.92</td>\n",
       "      <td>3.58</td>\n",
       "      <td>13.90</td>\n",
       "      <td>20.29</td>\n",
       "      <td>5.16</td>\n",
       "      <td>...</td>\n",
       "      <td>0.26</td>\n",
       "      <td>1.50</td>\n",
       "      <td>9.95</td>\n",
       "      <td>3.67</td>\n",
       "      <td>2.69</td>\n",
       "      <td>1.6</td>\n",
       "      <td>0.250</td>\n",
       "      <td>1.39</td>\n",
       "      <td>0.98</td>\n",
       "      <td>1.41</td>\n",
       "    </tr>\n",
       "    <tr>\n",
       "      <th>2019-03-07</th>\n",
       "      <td>50.08</td>\n",
       "      <td>21.25</td>\n",
       "      <td>12.22</td>\n",
       "      <td>13.13</td>\n",
       "      <td>80.14</td>\n",
       "      <td>9.94</td>\n",
       "      <td>3.58</td>\n",
       "      <td>14.00</td>\n",
       "      <td>20.37</td>\n",
       "      <td>5.16</td>\n",
       "      <td>...</td>\n",
       "      <td>0.27</td>\n",
       "      <td>1.50</td>\n",
       "      <td>10.20</td>\n",
       "      <td>3.56</td>\n",
       "      <td>2.60</td>\n",
       "      <td>1.6</td>\n",
       "      <td>0.260</td>\n",
       "      <td>1.35</td>\n",
       "      <td>0.97</td>\n",
       "      <td>1.42</td>\n",
       "    </tr>\n",
       "    <tr>\n",
       "      <th>2019-03-08</th>\n",
       "      <td>50.08</td>\n",
       "      <td>21.03</td>\n",
       "      <td>12.50</td>\n",
       "      <td>13.11</td>\n",
       "      <td>79.36</td>\n",
       "      <td>9.94</td>\n",
       "      <td>3.54</td>\n",
       "      <td>13.86</td>\n",
       "      <td>20.38</td>\n",
       "      <td>5.12</td>\n",
       "      <td>...</td>\n",
       "      <td>0.27</td>\n",
       "      <td>1.50</td>\n",
       "      <td>10.10</td>\n",
       "      <td>3.62</td>\n",
       "      <td>2.45</td>\n",
       "      <td>1.6</td>\n",
       "      <td>0.251</td>\n",
       "      <td>1.33</td>\n",
       "      <td>0.98</td>\n",
       "      <td>1.43</td>\n",
       "    </tr>\n",
       "    <tr>\n",
       "      <th>2019-03-11</th>\n",
       "      <td>50.10</td>\n",
       "      <td>21.00</td>\n",
       "      <td>12.58</td>\n",
       "      <td>13.24</td>\n",
       "      <td>79.12</td>\n",
       "      <td>9.93</td>\n",
       "      <td>3.52</td>\n",
       "      <td>13.77</td>\n",
       "      <td>20.50</td>\n",
       "      <td>5.13</td>\n",
       "      <td>...</td>\n",
       "      <td>0.27</td>\n",
       "      <td>1.49</td>\n",
       "      <td>9.98</td>\n",
       "      <td>3.58</td>\n",
       "      <td>2.45</td>\n",
       "      <td>1.5</td>\n",
       "      <td>0.250</td>\n",
       "      <td>1.30</td>\n",
       "      <td>0.98</td>\n",
       "      <td>1.40</td>\n",
       "    </tr>\n",
       "  </tbody>\n",
       "</table>\n",
       "<p>5 rows × 36556 columns</p>\n",
       "</div>"
      ],
      "text/plain": [
       "            Australian High Interest Cash  \\\n",
       "Date                                        \n",
       "2019-03-05                          50.09   \n",
       "2019-03-06                          50.08   \n",
       "2019-03-07                          50.08   \n",
       "2019-03-08                          50.08   \n",
       "2019-03-11                          50.10   \n",
       "\n",
       "            VanEck Vectors MSCI International Sustainable Equity  \\\n",
       "Date                                                               \n",
       "2019-03-05                                              21.32      \n",
       "2019-03-06                                              21.32      \n",
       "2019-03-07                                              21.25      \n",
       "2019-03-08                                              21.03      \n",
       "2019-03-11                                              21.00      \n",
       "\n",
       "            BetaShares Australian Equities Strong Bear Hedge  \\\n",
       "Date                                                           \n",
       "2019-03-05                                             12.58   \n",
       "2019-03-06                                             12.37   \n",
       "2019-03-07                                             12.22   \n",
       "2019-03-08                                             12.50   \n",
       "2019-03-11                                             12.58   \n",
       "\n",
       "            BetaShares Gold Bullion Currency Hedged  \\\n",
       "Date                                                  \n",
       "2019-03-05                                    13.14   \n",
       "2019-03-06                                    13.10   \n",
       "2019-03-07                                    13.13   \n",
       "2019-03-08                                    13.11   \n",
       "2019-03-11                                    13.24   \n",
       "\n",
       "            Vanguard Australian Shares  Betashares Active Australian Hybrids  \\\n",
       "Date                                                                           \n",
       "2019-03-05                       79.09                                  9.91   \n",
       "2019-03-06                       79.70                                  9.92   \n",
       "2019-03-07                       80.14                                  9.94   \n",
       "2019-03-08                       79.36                                  9.94   \n",
       "2019-03-11                       79.12                                  9.93   \n",
       "\n",
       "            Montgomery Global Equities Fund  \\\n",
       "Date                                          \n",
       "2019-03-05                             3.56   \n",
       "2019-03-06                             3.58   \n",
       "2019-03-07                             3.58   \n",
       "2019-03-08                             3.54   \n",
       "2019-03-11                             3.52   \n",
       "\n",
       "            iShares S&P/ASX Dividend Opportunities  \\\n",
       "Date                                                 \n",
       "2019-03-05                                   13.80   \n",
       "2019-03-06                                   13.90   \n",
       "2019-03-07                                   14.00   \n",
       "2019-03-08                                   13.86   \n",
       "2019-03-11                                   13.77   \n",
       "\n",
       "            VanEck Vectors FTSE Global Infrastructure  \\\n",
       "Date                                                    \n",
       "2019-03-05                                      20.29   \n",
       "2019-03-06                                      20.29   \n",
       "2019-03-07                                      20.37   \n",
       "2019-03-08                                      20.38   \n",
       "2019-03-11                                      20.50   \n",
       "\n",
       "            WCM Quality Global Growth  ...  Tawasol Group Holding SA  \\\n",
       "Date                                   ...                             \n",
       "2019-03-05                       5.13  ...                      0.26   \n",
       "2019-03-06                       5.16  ...                      0.26   \n",
       "2019-03-07                       5.16  ...                      0.27   \n",
       "2019-03-08                       5.12  ...                      0.27   \n",
       "2019-03-11                       5.13  ...                      0.27   \n",
       "\n",
       "            Universal Auto Distributors Holding SA  Unimed SA  \\\n",
       "Date                                                            \n",
       "2019-03-05                                    1.46       9.98   \n",
       "2019-03-06                                    1.50       9.95   \n",
       "2019-03-07                                    1.50      10.20   \n",
       "2019-03-08                                    1.50      10.10   \n",
       "2019-03-11                                    1.49       9.98   \n",
       "\n",
       "            Atelier du Meuble Interieurs SA  Delta Corporation Limited  \\\n",
       "Date                                                                     \n",
       "2019-03-05                             3.67                       2.69   \n",
       "2019-03-06                             3.67                       2.69   \n",
       "2019-03-07                             3.56                       2.60   \n",
       "2019-03-08                             3.62                       2.45   \n",
       "2019-03-11                             3.58                       2.45   \n",
       "\n",
       "            Innscor Africa Limited  OK Zimbabwe Limited  \\\n",
       "Date                                                      \n",
       "2019-03-05                     1.6                0.260   \n",
       "2019-03-06                     1.6                0.250   \n",
       "2019-03-07                     1.6                0.260   \n",
       "2019-03-08                     1.6                0.251   \n",
       "2019-03-11                     1.5                0.250   \n",
       "\n",
       "            Econet Wireless Zimbabwe Limited  Padenga  Cassava SmarTech  \n",
       "Date                                                                     \n",
       "2019-03-05                              1.41     0.98              1.40  \n",
       "2019-03-06                              1.39     0.98              1.41  \n",
       "2019-03-07                              1.35     0.97              1.42  \n",
       "2019-03-08                              1.33     0.98              1.43  \n",
       "2019-03-11                              1.30     0.98              1.40  \n",
       "\n",
       "[5 rows x 36556 columns]"
      ]
     },
     "execution_count": 5,
     "metadata": {},
     "output_type": "execute_result"
    }
   ],
   "source": [
    "stocks_2y = stocks.iloc[-567:].resample(rule='B').last()\n",
    "stocks_2y = stocks_2y.dropna(axis=1, thresh=400)\n",
    "stocks_2y = stocks_2y.fillna(method = 'ffill')\n",
    "stocks_2y = stocks_2y.fillna(method = 'bfill')\n",
    "\n",
    "print('Shape: ', stocks_2y.shape)\n",
    "print('Total NaN: ', stocks_2y.isna().sum().sum())\n",
    "\n",
    "stocks_2y.head()"
   ]
  },
  {
   "cell_type": "code",
   "execution_count": 6,
   "metadata": {},
   "outputs": [
    {
     "data": {
      "text/plain": [
       "<matplotlib.axes._subplots.AxesSubplot at 0x7faf70866410>"
      ]
     },
     "execution_count": 6,
     "metadata": {},
     "output_type": "execute_result"
    },
    {
     "data": {
      "image/png": "[encoded data removed]",
      "text/plain": [
       "<Figure size 432x288 with 1 Axes>"
      ]
     },
     "metadata": {
      "needs_background": "light"
     },
     "output_type": "display_data"
    }
   ],
   "source": [
    "stocks_2y.iloc[:, 90].plot()"
   ]
  },
  {
   "cell_type": "code",
   "execution_count": 7,
   "metadata": {},
   "outputs": [
    {
     "data": {
      "text/html": [
       "<div>\n",
       "<style scoped>\n",
       "    .dataframe tbody tr th:only-of-type {\n",
       "        vertical-align: middle;\n",
       "    }\n",
       "\n",
       "    .dataframe tbody tr th {\n",
       "        vertical-align: top;\n",
       "    }\n",
       "\n",
       "    .dataframe thead th {\n",
       "        text-align: right;\n",
       "    }\n",
       "</style>\n",
       "<table border=\"1\" class=\"dataframe\">\n",
       "  <thead>\n",
       "    <tr style=\"text-align: right;\">\n",
       "      <th></th>\n",
       "      <th>Australian High Interest Cash</th>\n",
       "      <th>VanEck Vectors MSCI International Sustainable Equity</th>\n",
       "      <th>BetaShares Australian Equities Strong Bear Hedge</th>\n",
       "      <th>BetaShares Gold Bullion Currency Hedged</th>\n",
       "      <th>Vanguard Australian Shares</th>\n",
       "      <th>Betashares Active Australian Hybrids</th>\n",
       "      <th>Montgomery Global Equities Fund</th>\n",
       "      <th>iShares S&amp;P/ASX Dividend Opportunities</th>\n",
       "      <th>VanEck Vectors FTSE Global Infrastructure</th>\n",
       "      <th>WCM Quality Global Growth</th>\n",
       "      <th>...</th>\n",
       "      <th>Tawasol Group Holding SA</th>\n",
       "      <th>Universal Auto Distributors Holding SA</th>\n",
       "      <th>Unimed SA</th>\n",
       "      <th>Atelier du Meuble Interieurs SA</th>\n",
       "      <th>Delta Corporation Limited</th>\n",
       "      <th>Innscor Africa Limited</th>\n",
       "      <th>OK Zimbabwe Limited</th>\n",
       "      <th>Econet Wireless Zimbabwe Limited</th>\n",
       "      <th>Padenga</th>\n",
       "      <th>Cassava SmarTech</th>\n",
       "    </tr>\n",
       "    <tr>\n",
       "      <th>Date</th>\n",
       "      <th></th>\n",
       "      <th></th>\n",
       "      <th></th>\n",
       "      <th></th>\n",
       "      <th></th>\n",
       "      <th></th>\n",
       "      <th></th>\n",
       "      <th></th>\n",
       "      <th></th>\n",
       "      <th></th>\n",
       "      <th></th>\n",
       "      <th></th>\n",
       "      <th></th>\n",
       "      <th></th>\n",
       "      <th></th>\n",
       "      <th></th>\n",
       "      <th></th>\n",
       "      <th></th>\n",
       "      <th></th>\n",
       "      <th></th>\n",
       "      <th></th>\n",
       "    </tr>\n",
       "  </thead>\n",
       "  <tbody>\n",
       "    <tr>\n",
       "      <th>2021-02-02</th>\n",
       "      <td>0.0000</td>\n",
       "      <td>0.006711</td>\n",
       "      <td>-0.031509</td>\n",
       "      <td>-0.004530</td>\n",
       "      <td>0.014817</td>\n",
       "      <td>0.000000</td>\n",
       "      <td>0.026786</td>\n",
       "      <td>0.013564</td>\n",
       "      <td>0.008333</td>\n",
       "      <td>0.021305</td>\n",
       "      <td>...</td>\n",
       "      <td>0.000000</td>\n",
       "      <td>0.000000</td>\n",
       "      <td>-0.010753</td>\n",
       "      <td>0.000000</td>\n",
       "      <td>0.052632</td>\n",
       "      <td>0.162791</td>\n",
       "      <td>0.067857</td>\n",
       "      <td>-0.010638</td>\n",
       "      <td>0.075000</td>\n",
       "      <td>-0.081633</td>\n",
       "    </tr>\n",
       "    <tr>\n",
       "      <th>2021-02-03</th>\n",
       "      <td>0.0000</td>\n",
       "      <td>0.013333</td>\n",
       "      <td>-0.020548</td>\n",
       "      <td>-0.006257</td>\n",
       "      <td>0.008806</td>\n",
       "      <td>0.000975</td>\n",
       "      <td>0.008696</td>\n",
       "      <td>0.004461</td>\n",
       "      <td>0.009298</td>\n",
       "      <td>0.016949</td>\n",
       "      <td>...</td>\n",
       "      <td>0.000000</td>\n",
       "      <td>-0.295567</td>\n",
       "      <td>0.000000</td>\n",
       "      <td>-0.007752</td>\n",
       "      <td>0.053750</td>\n",
       "      <td>0.100000</td>\n",
       "      <td>0.023411</td>\n",
       "      <td>0.032258</td>\n",
       "      <td>0.037567</td>\n",
       "      <td>0.122222</td>\n",
       "    </tr>\n",
       "    <tr>\n",
       "      <th>2021-02-04</th>\n",
       "      <td>0.0000</td>\n",
       "      <td>-0.004257</td>\n",
       "      <td>0.020979</td>\n",
       "      <td>-0.012021</td>\n",
       "      <td>-0.008155</td>\n",
       "      <td>-0.000974</td>\n",
       "      <td>0.002874</td>\n",
       "      <td>-0.006662</td>\n",
       "      <td>-0.006141</td>\n",
       "      <td>0.000000</td>\n",
       "      <td>...</td>\n",
       "      <td>-0.055556</td>\n",
       "      <td>-0.027972</td>\n",
       "      <td>-0.027174</td>\n",
       "      <td>0.007812</td>\n",
       "      <td>0.067616</td>\n",
       "      <td>0.059091</td>\n",
       "      <td>0.091503</td>\n",
       "      <td>0.048611</td>\n",
       "      <td>0.036207</td>\n",
       "      <td>0.089109</td>\n",
       "    </tr>\n",
       "    <tr>\n",
       "      <th>2021-02-05</th>\n",
       "      <td>0.0002</td>\n",
       "      <td>0.015935</td>\n",
       "      <td>-0.027397</td>\n",
       "      <td>-0.012167</td>\n",
       "      <td>0.011349</td>\n",
       "      <td>-0.002924</td>\n",
       "      <td>0.014327</td>\n",
       "      <td>0.007452</td>\n",
       "      <td>0.008239</td>\n",
       "      <td>0.010256</td>\n",
       "      <td>...</td>\n",
       "      <td>-0.058824</td>\n",
       "      <td>0.057554</td>\n",
       "      <td>0.005587</td>\n",
       "      <td>-0.011628</td>\n",
       "      <td>0.066667</td>\n",
       "      <td>0.030043</td>\n",
       "      <td>0.062874</td>\n",
       "      <td>0.172185</td>\n",
       "      <td>0.098170</td>\n",
       "      <td>0.090909</td>\n",
       "    </tr>\n",
       "    <tr>\n",
       "      <th>2021-02-08</th>\n",
       "      <td>-0.0002</td>\n",
       "      <td>-0.003443</td>\n",
       "      <td>-0.012324</td>\n",
       "      <td>0.008211</td>\n",
       "      <td>0.005153</td>\n",
       "      <td>0.003910</td>\n",
       "      <td>-0.005650</td>\n",
       "      <td>0.005917</td>\n",
       "      <td>0.008172</td>\n",
       "      <td>-0.005076</td>\n",
       "      <td>...</td>\n",
       "      <td>0.050000</td>\n",
       "      <td>0.000000</td>\n",
       "      <td>-0.011111</td>\n",
       "      <td>0.011765</td>\n",
       "      <td>0.000000</td>\n",
       "      <td>-0.008333</td>\n",
       "      <td>0.047887</td>\n",
       "      <td>0.127119</td>\n",
       "      <td>0.006061</td>\n",
       "      <td>0.000000</td>\n",
       "    </tr>\n",
       "  </tbody>\n",
       "</table>\n",
       "<p>5 rows × 36556 columns</p>\n",
       "</div>"
      ],
      "text/plain": [
       "            Australian High Interest Cash  \\\n",
       "Date                                        \n",
       "2021-02-02                         0.0000   \n",
       "2021-02-03                         0.0000   \n",
       "2021-02-04                         0.0000   \n",
       "2021-02-05                         0.0002   \n",
       "2021-02-08                        -0.0002   \n",
       "\n",
       "            VanEck Vectors MSCI International Sustainable Equity  \\\n",
       "Date                                                               \n",
       "2021-02-02                                           0.006711      \n",
       "2021-02-03                                           0.013333      \n",
       "2021-02-04                                          -0.004257      \n",
       "2021-02-05                                           0.015935      \n",
       "2021-02-08                                          -0.003443      \n",
       "\n",
       "            BetaShares Australian Equities Strong Bear Hedge  \\\n",
       "Date                                                           \n",
       "2021-02-02                                         -0.031509   \n",
       "2021-02-03                                         -0.020548   \n",
       "2021-02-04                                          0.020979   \n",
       "2021-02-05                                         -0.027397   \n",
       "2021-02-08                                         -0.012324   \n",
       "\n",
       "            BetaShares Gold Bullion Currency Hedged  \\\n",
       "Date                                                  \n",
       "2021-02-02                                -0.004530   \n",
       "2021-02-03                                -0.006257   \n",
       "2021-02-04                                -0.012021   \n",
       "2021-02-05                                -0.012167   \n",
       "2021-02-08                                 0.008211   \n",
       "\n",
       "            Vanguard Australian Shares  Betashares Active Australian Hybrids  \\\n",
       "Date                                                                           \n",
       "2021-02-02                    0.014817                              0.000000   \n",
       "2021-02-03                    0.008806                              0.000975   \n",
       "2021-02-04                   -0.008155                             -0.000974   \n",
       "2021-02-05                    0.011349                             -0.002924   \n",
       "2021-02-08                    0.005153                              0.003910   \n",
       "\n",
       "            Montgomery Global Equities Fund  \\\n",
       "Date                                          \n",
       "2021-02-02                         0.026786   \n",
       "2021-02-03                         0.008696   \n",
       "2021-02-04                         0.002874   \n",
       "2021-02-05                         0.014327   \n",
       "2021-02-08                        -0.005650   \n",
       "\n",
       "            iShares S&P/ASX Dividend Opportunities  \\\n",
       "Date                                                 \n",
       "2021-02-02                                0.013564   \n",
       "2021-02-03                                0.004461   \n",
       "2021-02-04                               -0.006662   \n",
       "2021-02-05                                0.007452   \n",
       "2021-02-08                                0.005917   \n",
       "\n",
       "            VanEck Vectors FTSE Global Infrastructure  \\\n",
       "Date                                                    \n",
       "2021-02-02                                   0.008333   \n",
       "2021-02-03                                   0.009298   \n",
       "2021-02-04                                  -0.006141   \n",
       "2021-02-05                                   0.008239   \n",
       "2021-02-08                                   0.008172   \n",
       "\n",
       "            WCM Quality Global Growth  ...  Tawasol Group Holding SA  \\\n",
       "Date                                   ...                             \n",
       "2021-02-02                   0.021305  ...                  0.000000   \n",
       "2021-02-03                   0.016949  ...                  0.000000   \n",
       "2021-02-04                   0.000000  ...                 -0.055556   \n",
       "2021-02-05                   0.010256  ...                 -0.058824   \n",
       "2021-02-08                  -0.005076  ...                  0.050000   \n",
       "\n",
       "            Universal Auto Distributors Holding SA  Unimed SA  \\\n",
       "Date                                                            \n",
       "2021-02-02                                0.000000  -0.010753   \n",
       "2021-02-03                               -0.295567   0.000000   \n",
       "2021-02-04                               -0.027972  -0.027174   \n",
       "2021-02-05                                0.057554   0.005587   \n",
       "2021-02-08                                0.000000  -0.011111   \n",
       "\n",
       "            Atelier du Meuble Interieurs SA  Delta Corporation Limited  \\\n",
       "Date                                                                     \n",
       "2021-02-02                         0.000000                   0.052632   \n",
       "2021-02-03                        -0.007752                   0.053750   \n",
       "2021-02-04                         0.007812                   0.067616   \n",
       "2021-02-05                        -0.011628                   0.066667   \n",
       "2021-02-08                         0.011765                   0.000000   \n",
       "\n",
       "            Innscor Africa Limited  OK Zimbabwe Limited  \\\n",
       "Date                                                      \n",
       "2021-02-02                0.162791             0.067857   \n",
       "2021-02-03                0.100000             0.023411   \n",
       "2021-02-04                0.059091             0.091503   \n",
       "2021-02-05                0.030043             0.062874   \n",
       "2021-02-08               -0.008333             0.047887   \n",
       "\n",
       "            Econet Wireless Zimbabwe Limited   Padenga  Cassava SmarTech  \n",
       "Date                                                                      \n",
       "2021-02-02                         -0.010638  0.075000         -0.081633  \n",
       "2021-02-03                          0.032258  0.037567          0.122222  \n",
       "2021-02-04                          0.048611  0.036207          0.089109  \n",
       "2021-02-05                          0.172185  0.098170          0.090909  \n",
       "2021-02-08                          0.127119  0.006061          0.000000  \n",
       "\n",
       "[5 rows x 36556 columns]"
      ]
     },
     "execution_count": 7,
     "metadata": {},
     "output_type": "execute_result"
    }
   ],
   "source": [
    "returns = stocks_2y.pct_change().iloc[1:]\n",
    "returns.tail()"
   ]
  },
  {
   "cell_type": "code",
   "execution_count": 8,
   "metadata": {},
   "outputs": [
    {
     "name": "stdout",
     "output_type": "stream",
     "text": [
      "Total NaN:  0\n"
     ]
    },
    {
     "data": {
      "text/html": [
       "<div>\n",
       "<style scoped>\n",
       "    .dataframe tbody tr th:only-of-type {\n",
       "        vertical-align: middle;\n",
       "    }\n",
       "\n",
       "    .dataframe tbody tr th {\n",
       "        vertical-align: top;\n",
       "    }\n",
       "\n",
       "    .dataframe thead th {\n",
       "        text-align: right;\n",
       "    }\n",
       "</style>\n",
       "<table border=\"1\" class=\"dataframe\">\n",
       "  <thead>\n",
       "    <tr style=\"text-align: right;\">\n",
       "      <th></th>\n",
       "      <th>Australian High Interest Cash</th>\n",
       "      <th>VanEck Vectors MSCI International Sustainable Equity</th>\n",
       "      <th>BetaShares Australian Equities Strong Bear Hedge</th>\n",
       "      <th>BetaShares Gold Bullion Currency Hedged</th>\n",
       "      <th>Vanguard Australian Shares</th>\n",
       "      <th>Betashares Active Australian Hybrids</th>\n",
       "      <th>Montgomery Global Equities Fund</th>\n",
       "      <th>iShares S&amp;P/ASX Dividend Opportunities</th>\n",
       "      <th>VanEck Vectors FTSE Global Infrastructure</th>\n",
       "      <th>WCM Quality Global Growth</th>\n",
       "      <th>...</th>\n",
       "      <th>Tawasol Group Holding SA</th>\n",
       "      <th>Universal Auto Distributors Holding SA</th>\n",
       "      <th>Unimed SA</th>\n",
       "      <th>Atelier du Meuble Interieurs SA</th>\n",
       "      <th>Delta Corporation Limited</th>\n",
       "      <th>Innscor Africa Limited</th>\n",
       "      <th>OK Zimbabwe Limited</th>\n",
       "      <th>Econet Wireless Zimbabwe Limited</th>\n",
       "      <th>Padenga</th>\n",
       "      <th>Cassava SmarTech</th>\n",
       "    </tr>\n",
       "    <tr>\n",
       "      <th>Date</th>\n",
       "      <th></th>\n",
       "      <th></th>\n",
       "      <th></th>\n",
       "      <th></th>\n",
       "      <th></th>\n",
       "      <th></th>\n",
       "      <th></th>\n",
       "      <th></th>\n",
       "      <th></th>\n",
       "      <th></th>\n",
       "      <th></th>\n",
       "      <th></th>\n",
       "      <th></th>\n",
       "      <th></th>\n",
       "      <th></th>\n",
       "      <th></th>\n",
       "      <th></th>\n",
       "      <th></th>\n",
       "      <th></th>\n",
       "      <th></th>\n",
       "      <th></th>\n",
       "    </tr>\n",
       "  </thead>\n",
       "  <tbody>\n",
       "    <tr>\n",
       "      <th>2019-03-06</th>\n",
       "      <td>0.9998</td>\n",
       "      <td>1.000000</td>\n",
       "      <td>0.983307</td>\n",
       "      <td>0.996956</td>\n",
       "      <td>1.007713</td>\n",
       "      <td>1.001009</td>\n",
       "      <td>1.005618</td>\n",
       "      <td>1.007246</td>\n",
       "      <td>1.000000</td>\n",
       "      <td>1.005848</td>\n",
       "      <td>...</td>\n",
       "      <td>1.000000</td>\n",
       "      <td>1.027397</td>\n",
       "      <td>0.996994</td>\n",
       "      <td>1.000000</td>\n",
       "      <td>1.000000</td>\n",
       "      <td>1.00000</td>\n",
       "      <td>0.961538</td>\n",
       "      <td>0.985816</td>\n",
       "      <td>1.000000</td>\n",
       "      <td>1.007143</td>\n",
       "    </tr>\n",
       "    <tr>\n",
       "      <th>2019-03-07</th>\n",
       "      <td>0.9998</td>\n",
       "      <td>0.996717</td>\n",
       "      <td>0.971383</td>\n",
       "      <td>0.999239</td>\n",
       "      <td>1.013276</td>\n",
       "      <td>1.003027</td>\n",
       "      <td>1.005618</td>\n",
       "      <td>1.014493</td>\n",
       "      <td>1.003943</td>\n",
       "      <td>1.005848</td>\n",
       "      <td>...</td>\n",
       "      <td>1.038462</td>\n",
       "      <td>1.027397</td>\n",
       "      <td>1.022044</td>\n",
       "      <td>0.970027</td>\n",
       "      <td>0.966543</td>\n",
       "      <td>1.00000</td>\n",
       "      <td>1.000000</td>\n",
       "      <td>0.957447</td>\n",
       "      <td>0.989796</td>\n",
       "      <td>1.014286</td>\n",
       "    </tr>\n",
       "    <tr>\n",
       "      <th>2019-03-08</th>\n",
       "      <td>0.9998</td>\n",
       "      <td>0.986398</td>\n",
       "      <td>0.993641</td>\n",
       "      <td>0.997717</td>\n",
       "      <td>1.003414</td>\n",
       "      <td>1.003027</td>\n",
       "      <td>0.994382</td>\n",
       "      <td>1.004348</td>\n",
       "      <td>1.004436</td>\n",
       "      <td>0.998051</td>\n",
       "      <td>...</td>\n",
       "      <td>1.038462</td>\n",
       "      <td>1.027397</td>\n",
       "      <td>1.012024</td>\n",
       "      <td>0.986376</td>\n",
       "      <td>0.910781</td>\n",
       "      <td>1.00000</td>\n",
       "      <td>0.965385</td>\n",
       "      <td>0.943262</td>\n",
       "      <td>1.000000</td>\n",
       "      <td>1.021429</td>\n",
       "    </tr>\n",
       "    <tr>\n",
       "      <th>2019-03-11</th>\n",
       "      <td>1.0002</td>\n",
       "      <td>0.984991</td>\n",
       "      <td>1.000000</td>\n",
       "      <td>1.007610</td>\n",
       "      <td>1.000379</td>\n",
       "      <td>1.002018</td>\n",
       "      <td>0.988764</td>\n",
       "      <td>0.997826</td>\n",
       "      <td>1.010350</td>\n",
       "      <td>1.000000</td>\n",
       "      <td>...</td>\n",
       "      <td>1.038462</td>\n",
       "      <td>1.020548</td>\n",
       "      <td>1.000000</td>\n",
       "      <td>0.975477</td>\n",
       "      <td>0.910781</td>\n",
       "      <td>0.93750</td>\n",
       "      <td>0.961538</td>\n",
       "      <td>0.921986</td>\n",
       "      <td>1.000000</td>\n",
       "      <td>1.000000</td>\n",
       "    </tr>\n",
       "    <tr>\n",
       "      <th>2019-03-12</th>\n",
       "      <td>1.0002</td>\n",
       "      <td>0.984991</td>\n",
       "      <td>1.002385</td>\n",
       "      <td>1.006849</td>\n",
       "      <td>0.999494</td>\n",
       "      <td>1.003027</td>\n",
       "      <td>0.994382</td>\n",
       "      <td>1.002899</td>\n",
       "      <td>1.016264</td>\n",
       "      <td>1.009747</td>\n",
       "      <td>...</td>\n",
       "      <td>1.000000</td>\n",
       "      <td>0.993151</td>\n",
       "      <td>0.992986</td>\n",
       "      <td>0.975477</td>\n",
       "      <td>0.929368</td>\n",
       "      <td>0.90625</td>\n",
       "      <td>0.961538</td>\n",
       "      <td>0.851064</td>\n",
       "      <td>0.918367</td>\n",
       "      <td>0.928571</td>\n",
       "    </tr>\n",
       "  </tbody>\n",
       "</table>\n",
       "<p>5 rows × 36556 columns</p>\n",
       "</div>"
      ],
      "text/plain": [
       "            Australian High Interest Cash  \\\n",
       "Date                                        \n",
       "2019-03-06                         0.9998   \n",
       "2019-03-07                         0.9998   \n",
       "2019-03-08                         0.9998   \n",
       "2019-03-11                         1.0002   \n",
       "2019-03-12                         1.0002   \n",
       "\n",
       "            VanEck Vectors MSCI International Sustainable Equity  \\\n",
       "Date                                                               \n",
       "2019-03-06                                           1.000000      \n",
       "2019-03-07                                           0.996717      \n",
       "2019-03-08                                           0.986398      \n",
       "2019-03-11                                           0.984991      \n",
       "2019-03-12                                           0.984991      \n",
       "\n",
       "            BetaShares Australian Equities Strong Bear Hedge  \\\n",
       "Date                                                           \n",
       "2019-03-06                                          0.983307   \n",
       "2019-03-07                                          0.971383   \n",
       "2019-03-08                                          0.993641   \n",
       "2019-03-11                                          1.000000   \n",
       "2019-03-12                                          1.002385   \n",
       "\n",
       "            BetaShares Gold Bullion Currency Hedged  \\\n",
       "Date                                                  \n",
       "2019-03-06                                 0.996956   \n",
       "2019-03-07                                 0.999239   \n",
       "2019-03-08                                 0.997717   \n",
       "2019-03-11                                 1.007610   \n",
       "2019-03-12                                 1.006849   \n",
       "\n",
       "            Vanguard Australian Shares  Betashares Active Australian Hybrids  \\\n",
       "Date                                                                           \n",
       "2019-03-06                    1.007713                              1.001009   \n",
       "2019-03-07                    1.013276                              1.003027   \n",
       "2019-03-08                    1.003414                              1.003027   \n",
       "2019-03-11                    1.000379                              1.002018   \n",
       "2019-03-12                    0.999494                              1.003027   \n",
       "\n",
       "            Montgomery Global Equities Fund  \\\n",
       "Date                                          \n",
       "2019-03-06                         1.005618   \n",
       "2019-03-07                         1.005618   \n",
       "2019-03-08                         0.994382   \n",
       "2019-03-11                         0.988764   \n",
       "2019-03-12                         0.994382   \n",
       "\n",
       "            iShares S&P/ASX Dividend Opportunities  \\\n",
       "Date                                                 \n",
       "2019-03-06                                1.007246   \n",
       "2019-03-07                                1.014493   \n",
       "2019-03-08                                1.004348   \n",
       "2019-03-11                                0.997826   \n",
       "2019-03-12                                1.002899   \n",
       "\n",
       "            VanEck Vectors FTSE Global Infrastructure  \\\n",
       "Date                                                    \n",
       "2019-03-06                                   1.000000   \n",
       "2019-03-07                                   1.003943   \n",
       "2019-03-08                                   1.004436   \n",
       "2019-03-11                                   1.010350   \n",
       "2019-03-12                                   1.016264   \n",
       "\n",
       "            WCM Quality Global Growth  ...  Tawasol Group Holding SA  \\\n",
       "Date                                   ...                             \n",
       "2019-03-06                   1.005848  ...                  1.000000   \n",
       "2019-03-07                   1.005848  ...                  1.038462   \n",
       "2019-03-08                   0.998051  ...                  1.038462   \n",
       "2019-03-11                   1.000000  ...                  1.038462   \n",
       "2019-03-12                   1.009747  ...                  1.000000   \n",
       "\n",
       "            Universal Auto Distributors Holding SA  Unimed SA  \\\n",
       "Date                                                            \n",
       "2019-03-06                                1.027397   0.996994   \n",
       "2019-03-07                                1.027397   1.022044   \n",
       "2019-03-08                                1.027397   1.012024   \n",
       "2019-03-11                                1.020548   1.000000   \n",
       "2019-03-12                                0.993151   0.992986   \n",
       "\n",
       "            Atelier du Meuble Interieurs SA  Delta Corporation Limited  \\\n",
       "Date                                                                     \n",
       "2019-03-06                         1.000000                   1.000000   \n",
       "2019-03-07                         0.970027                   0.966543   \n",
       "2019-03-08                         0.986376                   0.910781   \n",
       "2019-03-11                         0.975477                   0.910781   \n",
       "2019-03-12                         0.975477                   0.929368   \n",
       "\n",
       "            Innscor Africa Limited  OK Zimbabwe Limited  \\\n",
       "Date                                                      \n",
       "2019-03-06                 1.00000             0.961538   \n",
       "2019-03-07                 1.00000             1.000000   \n",
       "2019-03-08                 1.00000             0.965385   \n",
       "2019-03-11                 0.93750             0.961538   \n",
       "2019-03-12                 0.90625             0.961538   \n",
       "\n",
       "            Econet Wireless Zimbabwe Limited   Padenga  Cassava SmarTech  \n",
       "Date                                                                      \n",
       "2019-03-06                          0.985816  1.000000          1.007143  \n",
       "2019-03-07                          0.957447  0.989796          1.014286  \n",
       "2019-03-08                          0.943262  1.000000          1.021429  \n",
       "2019-03-11                          0.921986  1.000000          1.000000  \n",
       "2019-03-12                          0.851064  0.918367          0.928571  \n",
       "\n",
       "[5 rows x 36556 columns]"
      ]
     },
     "execution_count": 8,
     "metadata": {},
     "output_type": "execute_result"
    }
   ],
   "source": [
    "cumulative = (1 + returns).cumprod()\n",
    "cumulative = cumulative.fillna(method='ffill')\n",
    "\n",
    "print('Total NaN: ', cumulative.isna().sum().sum())\n",
    "\n",
    "cumulative.head()"
   ]
  },
  {
   "cell_type": "code",
   "execution_count": 9,
   "metadata": {},
   "outputs": [
    {
     "data": {
      "text/plain": [
       "<matplotlib.axes._subplots.AxesSubplot at 0x7faf7201c9d0>"
      ]
     },
     "execution_count": 9,
     "metadata": {},
     "output_type": "execute_result"
    },
    {
     "data": {
      "image/png": "[encoded data removed]",
      "text/plain": [
       "<Figure size 432x288 with 1 Axes>"
      ]
     },
     "metadata": {
      "needs_background": "light"
     },
     "output_type": "display_data"
    }
   ],
   "source": [
    "cumulative.iloc[:, 6].plot()"
   ]
  },
  {
   "cell_type": "markdown",
   "metadata": {},
   "source": [
    "## GAN construction"
   ]
  },
  {
   "cell_type": "code",
   "execution_count": 10,
   "metadata": {},
   "outputs": [],
   "source": [
    "from linear_gan import LinearGAN"
   ]
  },
  {
   "cell_type": "code",
   "execution_count": 11,
   "metadata": {},
   "outputs": [
    {
     "name": "stdout",
     "output_type": "stream",
     "text": [
      "initializing generator\n",
      "initializing discriminator\n"
     ]
    }
   ],
   "source": [
    "linear_gan = LinearGAN(cumulative)"
   ]
  },
  {
   "cell_type": "code",
   "execution_count": 12,
   "metadata": {},
   "outputs": [
    {
     "name": "stderr",
     "output_type": "stream",
     "text": [
      "  0%|          | 0/1500 [00:00<?, ?it/s]"
     ]
    },
    {
     "name": "stdout",
     "output_type": "stream",
     "text": [
      "[Epoch 3500/5000] [Batch 0/143] [D loss: 0.105221] [G loss: -2.589921]\n"
     ]
    },
    {
     "data": {
      "image/png": "[encoded data removed]",
      "text/plain": [
       "<Figure size 432x288 with 1 Axes>"
      ]
     },
     "metadata": {
      "needs_background": "light"
     },
     "output_type": "display_data"
    },
    {
     "name": "stdout",
     "output_type": "stream",
     "text": [
      "Saving model\n"
     ]
    },
    {
     "name": "stderr",
     "output_type": "stream",
     "text": [
      "  3%|▎         | 50/1500 [05:39<2:38:32,  6.56s/it]"
     ]
    },
    {
     "name": "stdout",
     "output_type": "stream",
     "text": [
      "[Epoch 3550/5000] [Batch 0/143] [D loss: -0.260927] [G loss: -2.212409]\n"
     ]
    },
    {
     "name": "stderr",
     "output_type": "stream",
     "text": [
      "  7%|▋         | 100/1500 [11:07<2:31:49,  6.51s/it]"
     ]
    },
    {
     "name": "stdout",
     "output_type": "stream",
     "text": [
      "[Epoch 3600/5000] [Batch 0/143] [D loss: -0.064941] [G loss: -3.959685]\n"
     ]
    },
    {
     "data": {
      "image/png": "[encoded data removed]",
      "text/plain": [
       "<Figure size 432x288 with 1 Axes>"
      ]
     },
     "metadata": {
      "needs_background": "light"
     },
     "output_type": "display_data"
    },
    {
     "name": "stderr",
     "output_type": "stream",
     "text": [
      " 10%|█         | 150/1500 [16:57<2:36:53,  6.97s/it]"
     ]
    },
    {
     "name": "stdout",
     "output_type": "stream",
     "text": [
      "[Epoch 3650/5000] [Batch 0/143] [D loss: 0.735999] [G loss: -2.915410]\n"
     ]
    },
    {
     "name": "stderr",
     "output_type": "stream",
     "text": [
      " 13%|█▎        | 200/1500 [22:53<2:30:17,  6.94s/it]"
     ]
    },
    {
     "name": "stdout",
     "output_type": "stream",
     "text": [
      "[Epoch 3700/5000] [Batch 0/143] [D loss: 0.094225] [G loss: -0.249538]\n"
     ]
    },
    {
     "data": {
      "image/png": "[encoded data removed]",
      "text/plain": [
       "<Figure size 432x288 with 1 Axes>"
      ]
     },
     "metadata": {
      "needs_background": "light"
     },
     "output_type": "display_data"
    },
    {
     "name": "stderr",
     "output_type": "stream",
     "text": [
      " 17%|█▋        | 250/1500 [28:31<2:11:52,  6.33s/it]"
     ]
    },
    {
     "name": "stdout",
     "output_type": "stream",
     "text": [
      "[Epoch 3750/5000] [Batch 0/143] [D loss: -0.507579] [G loss: -0.796005]\n"
     ]
    },
    {
     "name": "stderr",
     "output_type": "stream",
     "text": [
      " 20%|██        | 300/1500 [34:41<2:48:45,  8.44s/it]"
     ]
    },
    {
     "name": "stdout",
     "output_type": "stream",
     "text": [
      "[Epoch 3800/5000] [Batch 0/143] [D loss: 0.294685] [G loss: -6.033325]\n"
     ]
    },
    {
     "data": {
      "image/png": "[encoded data removed]",
      "text/plain": [
       "<Figure size 432x288 with 1 Axes>"
      ]
     },
     "metadata": {
      "needs_background": "light"
     },
     "output_type": "display_data"
    },
    {
     "name": "stderr",
     "output_type": "stream",
     "text": [
      " 23%|██▎       | 350/1500 [40:29<2:15:24,  7.06s/it]"
     ]
    },
    {
     "name": "stdout",
     "output_type": "stream",
     "text": [
      "[Epoch 3850/5000] [Batch 0/143] [D loss: -0.057903] [G loss: -0.943991]\n"
     ]
    },
    {
     "name": "stderr",
     "output_type": "stream",
     "text": [
      " 27%|██▋       | 400/1500 [46:13<1:59:59,  6.54s/it]"
     ]
    },
    {
     "name": "stdout",
     "output_type": "stream",
     "text": [
      "[Epoch 3900/5000] [Batch 0/143] [D loss: -1.263055] [G loss: -3.814999]\n"
     ]
    },
    {
     "data": {
      "image/png": "[encoded data removed]",
      "text/plain": [
       "<Figure size 432x288 with 1 Axes>"
      ]
     },
     "metadata": {
      "needs_background": "light"
     },
     "output_type": "display_data"
    },
    {
     "name": "stderr",
     "output_type": "stream",
     "text": [
      " 30%|███       | 450/1500 [51:46<1:57:54,  6.74s/it]"
     ]
    },
    {
     "name": "stdout",
     "output_type": "stream",
     "text": [
      "[Epoch 3950/5000] [Batch 0/143] [D loss: -0.432836] [G loss: -5.919724]\n"
     ]
    },
    {
     "name": "stderr",
     "output_type": "stream",
     "text": [
      " 33%|███▎      | 500/1500 [57:40<2:27:37,  8.86s/it]"
     ]
    },
    {
     "name": "stdout",
     "output_type": "stream",
     "text": [
      "[Epoch 4000/5000] [Batch 0/143] [D loss: -0.438395] [G loss: 5.158770]\n"
     ]
    },
    {
     "data": {
      "image/png": "[encoded data removed]",
      "text/plain": [
       "<Figure size 432x288 with 1 Axes>"
      ]
     },
     "metadata": {
      "needs_background": "light"
     },
     "output_type": "display_data"
    },
    {
     "name": "stdout",
     "output_type": "stream",
     "text": [
      "Saving model\n"
     ]
    },
    {
     "name": "stderr",
     "output_type": "stream",
     "text": [
      " 37%|███▋      | 550/1500 [1:04:58<2:43:06, 10.30s/it]"
     ]
    },
    {
     "name": "stdout",
     "output_type": "stream",
     "text": [
      "[Epoch 4050/5000] [Batch 0/143] [D loss: 0.305922] [G loss: -2.183831]\n"
     ]
    },
    {
     "name": "stderr",
     "output_type": "stream",
     "text": [
      " 40%|████      | 600/1500 [1:12:06<1:59:33,  7.97s/it]"
     ]
    },
    {
     "name": "stdout",
     "output_type": "stream",
     "text": [
      "[Epoch 4100/5000] [Batch 0/143] [D loss: -0.027714] [G loss: -5.693836]\n"
     ]
    },
    {
     "data": {
      "image/png": "[encoded data removed]",
      "text/plain": [
       "<Figure size 432x288 with 1 Axes>"
      ]
     },
     "metadata": {
      "needs_background": "light"
     },
     "output_type": "display_data"
    },
    {
     "name": "stderr",
     "output_type": "stream",
     "text": [
      " 43%|████▎     | 650/1500 [1:18:34<1:56:24,  8.22s/it]"
     ]
    },
    {
     "name": "stdout",
     "output_type": "stream",
     "text": [
      "[Epoch 4150/5000] [Batch 0/143] [D loss: 0.299976] [G loss: 1.622168]\n"
     ]
    },
    {
     "name": "stderr",
     "output_type": "stream",
     "text": [
      " 47%|████▋     | 700/1500 [1:24:18<1:25:35,  6.42s/it]"
     ]
    },
    {
     "name": "stdout",
     "output_type": "stream",
     "text": [
      "[Epoch 4200/5000] [Batch 0/143] [D loss: 1.120485] [G loss: 8.325422]\n"
     ]
    },
    {
     "data": {
      "image/png": "[encoded data removed]",
      "text/plain": [
       "<Figure size 432x288 with 1 Axes>"
      ]
     },
     "metadata": {
      "needs_background": "light"
     },
     "output_type": "display_data"
    },
    {
     "name": "stderr",
     "output_type": "stream",
     "text": [
      " 50%|█████     | 750/1500 [1:29:56<1:22:02,  6.56s/it]"
     ]
    },
    {
     "name": "stdout",
     "output_type": "stream",
     "text": [
      "[Epoch 4250/5000] [Batch 0/143] [D loss: 5.838160] [G loss: -12.417992]\n"
     ]
    },
    {
     "name": "stderr",
     "output_type": "stream",
     "text": [
      " 53%|█████▎    | 800/1500 [1:35:27<1:15:02,  6.43s/it]"
     ]
    },
    {
     "name": "stdout",
     "output_type": "stream",
     "text": [
      "[Epoch 4300/5000] [Batch 0/143] [D loss: -0.184075] [G loss: -0.557046]\n"
     ]
    },
    {
     "data": {
      "image/png": "[encoded data removed]",
      "text/plain": [
       "<Figure size 432x288 with 1 Axes>"
      ]
     },
     "metadata": {
      "needs_background": "light"
     },
     "output_type": "display_data"
    },
    {
     "name": "stderr",
     "output_type": "stream",
     "text": [
      " 57%|█████▋    | 850/1500 [1:40:50<1:10:03,  6.47s/it]"
     ]
    },
    {
     "name": "stdout",
     "output_type": "stream",
     "text": [
      "[Epoch 4350/5000] [Batch 0/143] [D loss: 0.062303] [G loss: -3.242514]\n"
     ]
    },
    {
     "name": "stderr",
     "output_type": "stream",
     "text": [
      " 60%|██████    | 900/1500 [1:46:05<1:05:45,  6.58s/it]"
     ]
    },
    {
     "name": "stdout",
     "output_type": "stream",
     "text": [
      "[Epoch 4400/5000] [Batch 0/143] [D loss: 0.167200] [G loss: -1.710856]\n"
     ]
    },
    {
     "data": {
      "image/png": "[encoded data removed]",
      "text/plain": [
       "<Figure size 432x288 with 1 Axes>"
      ]
     },
     "metadata": {
      "needs_background": "light"
     },
     "output_type": "display_data"
    },
    {
     "name": "stderr",
     "output_type": "stream",
     "text": [
      " 63%|██████▎   | 950/1500 [1:51:39<59:54,  6.54s/it]  "
     ]
    },
    {
     "name": "stdout",
     "output_type": "stream",
     "text": [
      "[Epoch 4450/5000] [Batch 0/143] [D loss: 0.120479] [G loss: -0.046643]\n"
     ]
    },
    {
     "name": "stderr",
     "output_type": "stream",
     "text": [
      " 67%|██████▋   | 1000/1500 [1:56:54<51:54,  6.23s/it] "
     ]
    },
    {
     "name": "stdout",
     "output_type": "stream",
     "text": [
      "[Epoch 4500/5000] [Batch 0/143] [D loss: -0.185762] [G loss: -1.563227]\n"
     ]
    },
    {
     "data": {
      "image/png": "[encoded data removed]",
      "text/plain": [
       "<Figure size 432x288 with 1 Axes>"
      ]
     },
     "metadata": {
      "needs_background": "light"
     },
     "output_type": "display_data"
    },
    {
     "name": "stdout",
     "output_type": "stream",
     "text": [
      "Saving model\n"
     ]
    },
    {
     "name": "stderr",
     "output_type": "stream",
     "text": [
      " 67%|██████▋   | 1003/1500 [1:57:19<58:08,  7.02s/it]\n"
     ]
    },
    {
     "ename": "KeyboardInterrupt",
     "evalue": "",
     "output_type": "error",
     "traceback": [
      "\u001b[0;31m---------------------------------------------------------------------------\u001b[0m",
      "\u001b[0;31mKeyboardInterrupt\u001b[0m                         Traceback (most recent call last)",
      "\u001b[0;32m<ipython-input-12-b38dc1b04ede>\u001b[0m in \u001b[0;36m<module>\u001b[0;34m\u001b[0m\n\u001b[0;32m----> 1\u001b[0;31m \u001b[0mlinear_gan\u001b[0m\u001b[0;34m.\u001b[0m\u001b[0mtrain\u001b[0m\u001b[0;34m(\u001b[0m\u001b[0;34m)\u001b[0m\u001b[0;34m\u001b[0m\u001b[0;34m\u001b[0m\u001b[0m\n\u001b[0m",
      "\u001b[0;32m/mnt/c/Users/lucas/Desktop/Turing/TimeSeriesGAN/linear_gan.py\u001b[0m in \u001b[0;36mtrain\u001b[0;34m(self)\u001b[0m\n\u001b[1;32m    218\u001b[0m                     fake_validity) + self.lambda_gp * gradient_penalty\n\u001b[1;32m    219\u001b[0m \u001b[0;34m\u001b[0m\u001b[0m\n\u001b[0;32m--> 220\u001b[0;31m                 \u001b[0mdiscriminator_loss\u001b[0m\u001b[0;34m.\u001b[0m\u001b[0mbackward\u001b[0m\u001b[0;34m(\u001b[0m\u001b[0;34m)\u001b[0m\u001b[0;34m\u001b[0m\u001b[0;34m\u001b[0m\u001b[0m\n\u001b[0m\u001b[1;32m    221\u001b[0m                 \u001b[0mself\u001b[0m\u001b[0;34m.\u001b[0m\u001b[0moptimizer_discriminator\u001b[0m\u001b[0;34m.\u001b[0m\u001b[0mstep\u001b[0m\u001b[0;34m(\u001b[0m\u001b[0;34m)\u001b[0m\u001b[0;34m\u001b[0m\u001b[0;34m\u001b[0m\u001b[0m\n\u001b[1;32m    222\u001b[0m \u001b[0;34m\u001b[0m\u001b[0m\n",
      "\u001b[0;32m~/anaconda3/envs/quant/lib/python3.7/site-packages/torch/tensor.py\u001b[0m in \u001b[0;36mbackward\u001b[0;34m(self, gradient, retain_graph, create_graph)\u001b[0m\n\u001b[1;32m    219\u001b[0m                 \u001b[0mretain_graph\u001b[0m\u001b[0;34m=\u001b[0m\u001b[0mretain_graph\u001b[0m\u001b[0;34m,\u001b[0m\u001b[0;34m\u001b[0m\u001b[0;34m\u001b[0m\u001b[0m\n\u001b[1;32m    220\u001b[0m                 create_graph=create_graph)\n\u001b[0;32m--> 221\u001b[0;31m         \u001b[0mtorch\u001b[0m\u001b[0;34m.\u001b[0m\u001b[0mautograd\u001b[0m\u001b[0;34m.\u001b[0m\u001b[0mbackward\u001b[0m\u001b[0;34m(\u001b[0m\u001b[0mself\u001b[0m\u001b[0;34m,\u001b[0m \u001b[0mgradient\u001b[0m\u001b[0;34m,\u001b[0m \u001b[0mretain_graph\u001b[0m\u001b[0;34m,\u001b[0m \u001b[0mcreate_graph\u001b[0m\u001b[0;34m)\u001b[0m\u001b[0;34m\u001b[0m\u001b[0;34m\u001b[0m\u001b[0m\n\u001b[0m\u001b[1;32m    222\u001b[0m \u001b[0;34m\u001b[0m\u001b[0m\n\u001b[1;32m    223\u001b[0m     \u001b[0;32mdef\u001b[0m \u001b[0mregister_hook\u001b[0m\u001b[0;34m(\u001b[0m\u001b[0mself\u001b[0m\u001b[0;34m,\u001b[0m \u001b[0mhook\u001b[0m\u001b[0;34m)\u001b[0m\u001b[0;34m:\u001b[0m\u001b[0;34m\u001b[0m\u001b[0;34m\u001b[0m\u001b[0m\n",
      "\u001b[0;32m~/anaconda3/envs/quant/lib/python3.7/site-packages/torch/autograd/__init__.py\u001b[0m in \u001b[0;36mbackward\u001b[0;34m(tensors, grad_tensors, retain_graph, create_graph, grad_variables)\u001b[0m\n\u001b[1;32m    130\u001b[0m     Variable._execution_engine.run_backward(\n\u001b[1;32m    131\u001b[0m         \u001b[0mtensors\u001b[0m\u001b[0;34m,\u001b[0m \u001b[0mgrad_tensors_\u001b[0m\u001b[0;34m,\u001b[0m \u001b[0mretain_graph\u001b[0m\u001b[0;34m,\u001b[0m \u001b[0mcreate_graph\u001b[0m\u001b[0;34m,\u001b[0m\u001b[0;34m\u001b[0m\u001b[0;34m\u001b[0m\u001b[0m\n\u001b[0;32m--> 132\u001b[0;31m         allow_unreachable=True)  # allow_unreachable flag\n\u001b[0m\u001b[1;32m    133\u001b[0m \u001b[0;34m\u001b[0m\u001b[0m\n\u001b[1;32m    134\u001b[0m \u001b[0;34m\u001b[0m\u001b[0m\n",
      "\u001b[0;31mKeyboardInterrupt\u001b[0m: "
     ]
    }
   ],
   "source": [
    "linear_gan.train()"
   ]
  },
  {
   "cell_type": "code",
   "execution_count": null,
   "metadata": {},
   "outputs": [],
   "source": []
  }
 ],
 "metadata": {
  "kernelspec": {
   "display_name": "Python 3",
   "language": "python",
   "name": "python3"
  },
  "language_info": {
   "codemirror_mode": {
    "name": "ipython",
    "version": 3
   },
   "file_extension": ".py",
   "mimetype": "text/x-python",
   "name": "python",
   "nbconvert_exporter": "python",
   "pygments_lexer": "ipython3",
   "version": "3.7.9"
  }
 },
 "nbformat": 4,
 "nbformat_minor": 4
}
